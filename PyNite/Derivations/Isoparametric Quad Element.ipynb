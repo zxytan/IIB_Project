{
 "cells": [
  {
   "cell_type": "code",
   "execution_count": 1,
   "metadata": {},
   "outputs": [],
   "source": [
    "from numpy import array\n",
    "from sympy import symbols, Eq, Matrix, diff, Derivative, simplify, factor, expand, latex, init_printing, collect\n",
    "init_printing()\n",
    "from IPython.display import display, Math"
   ]
  },
  {
   "cell_type": "markdown",
   "metadata": {},
   "source": [
    "## Define the interpolation functions"
   ]
  },
  {
   "cell_type": "code",
   "execution_count": 2,
   "metadata": {},
   "outputs": [
    {
     "data": {
      "text/latex": [
       "$\\displaystyle h_1 = 0.25 \\left(r + 1\\right) \\left(s + 1\\right)$"
      ],
      "text/plain": [
       "<IPython.core.display.Math object>"
      ]
     },
     "metadata": {},
     "output_type": "display_data"
    },
    {
     "data": {
      "text/latex": [
       "$\\displaystyle h_2 = - 0.25 \\left(r - 1\\right) \\left(s + 1\\right)$"
      ],
      "text/plain": [
       "<IPython.core.display.Math object>"
      ]
     },
     "metadata": {},
     "output_type": "display_data"
    },
    {
     "data": {
      "text/latex": [
       "$\\displaystyle h_2 = 0.25 \\left(r - 1\\right) \\left(s - 1\\right)$"
      ],
      "text/plain": [
       "<IPython.core.display.Math object>"
      ]
     },
     "metadata": {},
     "output_type": "display_data"
    },
    {
     "data": {
      "text/latex": [
       "$\\displaystyle h_2 = - 0.25 \\left(r + 1\\right) \\left(s - 1\\right)$"
      ],
      "text/plain": [
       "<IPython.core.display.Math object>"
      ]
     },
     "metadata": {},
     "output_type": "display_data"
    }
   ],
   "source": [
    "x1, y1, x2, y2, x3, y3, x4, y4 = symbols('x_1, y_1, x_2, y_2, x_3, y_3, x_4, y_4')\n",
    "r, s = symbols('r, s')\n",
    "\n",
    "# Define the interpolation functions\n",
    "h1 = factor(1/4*(1+r)*(1+s))\n",
    "h2 = factor(1/4*(1-r)*(1+s))\n",
    "h3 = factor(1/4*(1-r)*(1-s))\n",
    "h4 = factor(1/4*(1+r)*(1-s))\n",
    "\n",
    "display(Math('h_1 = ' + latex(h1)))\n",
    "display(Math('h_2 = ' + latex(h2)))\n",
    "display(Math('h_2 = ' + latex(h3)))\n",
    "display(Math('h_2 = ' + latex(h4)))"
   ]
  },
  {
   "cell_type": "markdown",
   "metadata": {},
   "source": [
    "# Relate the (x, y) Local Coordinate System to the (r, s) Natural Coordinate System"
   ]
  },
  {
   "cell_type": "code",
   "execution_count": 3,
   "metadata": {},
   "outputs": [
    {
     "data": {
      "text/latex": [
       "$\\displaystyle x = 0.25 x_{1} \\left(r + 1\\right) \\left(s + 1\\right) - 0.25 x_{2} \\left(r - 1\\right) \\left(s + 1\\right) + 0.25 x_{3} \\left(r - 1\\right) \\left(s - 1\\right) - 0.25 x_{4} \\left(r + 1\\right) \\left(s - 1\\right)$"
      ],
      "text/plain": [
       "<IPython.core.display.Math object>"
      ]
     },
     "metadata": {},
     "output_type": "display_data"
    },
    {
     "data": {
      "text/latex": [
       "$\\displaystyle y = 0.25 y_{1} \\left(r + 1\\right) \\left(s + 1\\right) - 0.25 y_{2} \\left(r - 1\\right) \\left(s + 1\\right) + 0.25 y_{3} \\left(r - 1\\right) \\left(s - 1\\right) - 0.25 y_{4} \\left(r + 1\\right) \\left(s - 1\\right)$"
      ],
      "text/plain": [
       "<IPython.core.display.Math object>"
      ]
     },
     "metadata": {},
     "output_type": "display_data"
    }
   ],
   "source": [
    "# Relate the (x, y) coordinate system to the (r, s) coordinate system\n",
    "x = h1*x1 + h2*x2 + h3*x3 + h4*x4\n",
    "y = h1*y1 + h2*y2 + h3*y3 + h4*y4\n",
    "\n",
    "display(Math('x = ' + latex(x)))\n",
    "display(Math('y = ' + latex(y)))"
   ]
  },
  {
   "cell_type": "markdown",
   "metadata": {},
   "source": [
    "# Find the Jacobian Matrix\n",
    "The Jacobian matrix converts derivatives with respect to x and y into derivatives with respect to r and s\n",
    "\n",
    "$J = \\begin{bmatrix} \\frac{dx}{dr} & \\frac{dy}{dr} \\\\ \\frac{dx}{ds} & \\frac{dy}{ds} \\end{bmatrix}$"
   ]
  },
  {
   "cell_type": "code",
   "execution_count": 4,
   "metadata": {},
   "outputs": [
    {
     "data": {
      "text/latex": [
       "$\\displaystyle J = \\left[\\begin{matrix}0.25 x_{1} \\left(s + 1\\right) - 0.25 x_{2} \\left(s + 1\\right) + 0.25 x_{3} \\left(s - 1\\right) - 0.25 x_{4} \\left(s - 1\\right) & 0.25 y_{1} \\left(s + 1\\right) - 0.25 y_{2} \\left(s + 1\\right) + 0.25 y_{3} \\left(s - 1\\right) - 0.25 y_{4} \\left(s - 1\\right)\\\\0.25 x_{1} \\left(r + 1\\right) - 0.25 x_{2} \\left(r - 1\\right) + 0.25 x_{3} \\left(r - 1\\right) - 0.25 x_{4} \\left(r + 1\\right) & 0.25 y_{1} \\left(r + 1\\right) - 0.25 y_{2} \\left(r - 1\\right) + 0.25 y_{3} \\left(r - 1\\right) - 0.25 y_{4} \\left(r + 1\\right)\\end{matrix}\\right]$"
      ],
      "text/plain": [
       "<IPython.core.display.Math object>"
      ]
     },
     "metadata": {},
     "output_type": "display_data"
    }
   ],
   "source": [
    "# Calculate the Jacobian matrix\n",
    "J = Matrix([[diff(x, r), diff(y, r)],\n",
    "            [diff(x, s), diff(y, s)]])\n",
    "\n",
    "display(Math('J = ' + latex(factor(J))))"
   ]
  },
  {
   "cell_type": "code",
   "execution_count": 5,
   "metadata": {},
   "outputs": [
    {
     "data": {
      "text/latex": [
       "$\\displaystyle B_\\kappa = J^{-1}(1/4)\\left[\\begin{array}{cccccccccccc}0 & 0 & - 1.0 s - 1.0 & 0 & 0 & s + 1.0 & 0 & 0 & s + 1.0 & 0 & 0 & s - 1.0\\\\0 & r + 1.0 & 0 & 0 & 1.0 - 1.0 r & 0 & 0 & r - 1.0 & 0 & 0 & - 1.0 r - 1.0 & 0\\\\0 & s + 1.0 & - 1.0 r - 1.0 & 0 & - 1.0 s - 1.0 & r - 1.0 & 0 & s - 1.0 & 1.0 - 1.0 r & 0 & 1.0 - 1.0 s & r + 1.0\\end{array}\\right]$"
      ],
      "text/plain": [
       "<IPython.core.display.Math object>"
      ]
     },
     "metadata": {},
     "output_type": "display_data"
    }
   ],
   "source": [
    "B_kappa = Matrix([[0,      0,      -diff(h1, r), 0,      0,      -diff(h2, r), 0,      0,      -diff(h2, r), 0,      0,      -diff(h4, r)],\n",
    "                  [0, diff(h1, s),       0,      0, diff(h2, s),       0,      0, diff(h3, s),       0,      0, diff(h4, s),       0     ],\n",
    "                  [0, diff(h1, r), -diff(h1, s), 0, diff(h2, r), -diff(h2, s), 0, diff(h3, r), -diff(h3, s), 0, diff(h4, r), -diff(h4, s)]])\n",
    "\n",
    "display(Math('B_\\kappa = J^{-1}(1/4)' + latex(B_kappa*4)))"
   ]
  },
  {
   "cell_type": "code",
   "execution_count": 7,
   "metadata": {},
   "outputs": [
    {
     "data": {
      "text/latex": [
       "$\\displaystyle dH = (1/4)\\left[\\begin{matrix}s + 1.0 & - 1.0 s - 1.0 & s - 1.0 & 1.0 - 1.0 s\\\\r + 1.0 & 1.0 - 1.0 r & r - 1.0 & - 1.0 r - 1.0\\end{matrix}\\right]$"
      ],
      "text/plain": [
       "<IPython.core.display.Math object>"
      ]
     },
     "metadata": {},
     "output_type": "display_data"
    },
    {
     "data": {
      "text/latex": [
       "$\\displaystyle B_m = J^{-1}(1/4)\\left[\\begin{matrix}s + 1.0 & 0 & - 1.0 s - 1.0 & 0 & s - 1.0 & 0 & 1.0 - 1.0 s & 0\\\\0 & r + 1.0 & 0 & 1.0 - 1.0 r & 0 & r - 1.0 & 0 & - 1.0 r - 1.0\\\\r + 1.0 & s + 1.0 & 1.0 - 1.0 r & - 1.0 s - 1.0 & r - 1.0 & s - 1.0 & - 1.0 r - 1.0 & 1.0 - 1.0 s\\end{matrix}\\right]$"
      ],
      "text/plain": [
       "<IPython.core.display.Math object>"
      ]
     },
     "metadata": {},
     "output_type": "display_data"
    },
    {
     "name": "stdout",
     "output_type": "stream",
     "text": [
      "Matrix([[s + 1.0, 0, -1.0*s - 1.0, 0, s - 1.0, 0, 1.0 - 1.0*s, 0], [0, r + 1.0, 0, 1.0 - 1.0*r, 0, r - 1.0, 0, -1.0*r - 1.0], [r + 1.0, s + 1.0, 1.0 - 1.0*r, -1.0*s - 1.0, r - 1.0, s - 1.0, -1.0*r - 1.0, 1.0 - 1.0*s]])\n"
     ]
    }
   ],
   "source": [
    "dH = Matrix([[diff(h1, r), diff(h2, r), diff(h3, r), diff(h4, r)],\n",
    "             [diff(h1, s), diff(h2, s), diff(h3, s), diff(h4, s)]])\n",
    "\n",
    "B_m = Matrix([[diff(h1, r),      0,      diff(h2, r),      0,      diff(h3, r),      0,      diff(h4, r),      0     ],\n",
    "              [     0,      diff(h1, s),      0,      diff(h2, s),      0,      diff(h3, s),      0,      diff(h4, s)],\n",
    "              [diff(h1, s), diff(h1, r), diff(h2, s), diff(h2, r), diff(h3, s), diff(h3, r), diff(h4, s), diff(h4, r)]])\n",
    "\n",
    "display(Math('dH = (1/4)' + latex(dH*4)))\n",
    "display(Math('B_m = J^{-1}(1/4)' + latex(B_m*4)))\n",
    "print(B_m*4)"
   ]
  },
  {
   "cell_type": "code",
   "execution_count": null,
   "metadata": {},
   "outputs": [],
   "source": [
    "r, s = symbols('r, s')\n",
    "h = symbols('h')\n",
    "x1, x2, x3, x4 = symbols('x1, x2, x3, x4')\n",
    "y1, y2, y3, y4 = symbols('y1, y2, y3, y4')\n",
    "w1, w2, w3, w4 = symbols('w1, w2, w3, w4')\n",
    "theta_x1, theta_x2, theta_x3, theta_x4 = symbols('theta_x1, theta_x2, theta_x3, theta_x4')\n",
    "theta_y1, theta_y2, theta_y3, theta_y4 = symbols('theta_y1, theta_y2, theta_y3, theta_y4')\n",
    "\n",
    "gamma_rz = (1 + s)*((w1 - w2)/2 + (x1 - x2)/4*(theta_y1 + theta_y2) - (y1 - y2)/4*(theta_x1 + theta_x2)) \\\n",
    "         + (1 - s)*((w4 - w3)/2 + (x4 - x3)/4*(theta_y4 + theta_y3) - (y4 - y3)/4*(theta_x4 + theta_x3))\n",
    "\n",
    "gamma_sz = (1 + r)*((w1 - w4)/2 + (x1 - x4)/4*(theta_y1 + theta_y4) - (y1 - y4)/4*(theta_x1 + theta_x4)) \\\n",
    "         + (1 - r)*((w2 - w3)/2 + (x2 - x3)/4*(theta_y2 + theta_y3) - (y2 - y3)/4*(theta_x2 + theta_x3))\n",
    "\n",
    "display(1/4*collect(expand(gamma_rz*4), [w1, theta_x1, theta_y1, w2, theta_x2, theta_y2, w3, theta_x3, theta_y3, w4, theta_x4, theta_y4]))\n",
    "print('')\n",
    "display(1/4*collect(expand(gamma_sz*4), [w1, theta_x1, theta_y1, w2, theta_x2, theta_y2, w3, theta_x3, theta_y3, w4, theta_x4, theta_y4]))"
   ]
  },
  {
   "cell_type": "markdown",
   "metadata": {},
   "source": [
    "# References\n",
    "\n",
    "The following references were used in the formulation of this element. The primary reference was the first one because it had a section directly relating to isoparametric general plate bending elements, but all three were used. The first reference is a free download from MIT's website.\n",
    "\n",
    "1. \"Finite Element Procedures, 2nd Edition\", Klaus-Jurgen Bathe\n",
    "2. \"Finite Element Analysis Fundamentals\", Richard H. Gallagher\n",
    "3. \"A First Course in the Finite Element Method, 4th Edition\", Daryl L. Logan"
   ]
  },
  {
   "cell_type": "markdown",
   "metadata": {},
   "source": [
    "# Write the Equations that Map the (x, y) Coordinates to the (r, s) Coordinates"
   ]
  },
  {
   "cell_type": "markdown",
   "metadata": {},
   "source": [
    "For any invertible matrix $M = \\begin{bmatrix} a & b \\\\ c & d \\end{bmatrix}$, the inverse can be found as follows:"
   ]
  },
  {
   "cell_type": "code",
   "execution_count": null,
   "metadata": {},
   "outputs": [],
   "source": [
    "a, b, c, d = symbols('a, b, c, d')\n",
    "\n",
    "M = Matrix([[a, b],\n",
    "           [c, d]])\n",
    "\n",
    "display(Math('M^{-1} = ' + latex(M.inv())))"
   ]
  },
  {
   "cell_type": "markdown",
   "metadata": {},
   "source": [
    "Recognizing that the denominator in each term of this inverse is the determinant of $M$, the inverse can be rewritten as:\n",
    "\n",
    "$M^{-1} = \\frac{1}{|M|}\\begin{bmatrix} d & -b \\\\ -c & a \\end{bmatrix}$"
   ]
  },
  {
   "cell_type": "markdown",
   "metadata": {},
   "source": [
    "Applying this to the Jacobian, we can express its the inverse as:\n",
    "\n",
    "$J^{-1} = \\frac{1}{|J|} \\begin{bmatrix} \\frac{dy}{ds} & \\frac{-dy}{dr} \\\\ \\frac{-dx}{ds} & \\frac{dx}{dr} \\end{bmatrix}$"
   ]
  },
  {
   "cell_type": "markdown",
   "metadata": {},
   "source": [
    "We can relate the derivatives of the (r, s) coordinate system to the derivatives of the (x, y) coordinate system using the Jacobian operator:\n",
    "\n",
    "$\\begin{bmatrix} \\frac{d}{dr} \\\\ \\frac{d}{ds} \\end{bmatrix} = \\begin{bmatrix} \\frac{dx}{dr} & \\frac{dy}{dr} \\\\ \\frac{dx}{ds} & \\frac{dy}{ds}\\end{bmatrix} \\begin{bmatrix} \\frac{d}{dx} \\\\ \\frac{d}{dy} \\end{bmatrix} = J \\begin{bmatrix} \\frac{d}{dx} \\\\ \\frac{d}{dy} \\end{bmatrix}$\n",
    "\n",
    "Rearranging the equation gives us the formula for any derivative of the (x, y) coordinate system in terms of (r, s):\n",
    "\n",
    "$\\begin{bmatrix} \\frac{d}{dx} \\\\ \\frac{d}{dy} \\end{bmatrix} = \\frac{1}{|J|} \\begin{bmatrix} \\frac{dy}{ds} & \\frac{-dy}{dr} \\\\ \\frac{-dx}{ds} & \\frac{dx}{dr} \\end{bmatrix} \\begin{bmatrix} \\frac{d}{dr} \\\\ \\frac{d}{ds} \\end{bmatrix}$\n",
    "\n",
    "Finally, multiplying through, we can obtain equations for the converting derivatives of any function with respect to x or y to derivatives with respect to r and s, respectively:"
   ]
  },
  {
   "cell_type": "markdown",
   "metadata": {},
   "source": [
    "$\\frac{d}{dx} = \\frac{1}{|J|} (\\frac{dy}{ds} \\frac{d}{dr} + \\frac{-dy}{dr} \\frac{d}{ds})$\n",
    "\n",
    "$\\frac{d}{dy} = \\frac{1}{|J|} (\\frac{-dx}{ds} \\frac{d}{dr} + \\frac{dx}{dr} \\frac{d}{ds})$"
   ]
  },
  {
   "cell_type": "markdown",
   "metadata": {},
   "source": [
    "The bending strains vary through the thickness of the plate. Using the curvatures of the plate they can be expressed as:\n",
    "\n",
    "$\\begin{bmatrix} \\epsilon_{xx} \\\\ \\epsilon_{yy} \\\\ \\gamma_{xy} \\end{bmatrix} = -z \\begin{bmatrix} \\frac{d \\beta_{x}}{dx} \\\\ \\frac{d \\beta_{y}}{dy} \\\\ \\frac{d \\beta_{x}}{dy} + \\frac{d\\beta_{y}}{dx} \\end{bmatrix} = \\frac{-z}{|J|} \\begin{bmatrix} \\frac{dy}{ds} \\frac{d\\beta_x}{dr} + \\frac{-dy}{dr} \\frac{d\\beta_x}{ds} \\\\ \\frac{-dx}{ds} \\frac{d\\beta_y}{dr} + \\frac{dx}{dr} \\frac{d\\beta_y}{ds} \\\\ (\\frac{-dx}{ds} \\frac{d\\beta_x}{dr} + \\frac{dx}{dr} \\frac{d\\beta_x}{ds}) + (\\frac{dy}{ds} \\frac{d\\beta_y}{dr} + \\frac{-dy}{dr} \\frac{d\\beta_y}{ds})\\end{bmatrix}$"
   ]
  },
  {
   "cell_type": "code",
   "execution_count": null,
   "metadata": {},
   "outputs": [],
   "source": []
  },
  {
   "cell_type": "code",
   "execution_count": null,
   "metadata": {},
   "outputs": [],
   "source": [
    "w_zi, theta_xi, theta_yi = symbols('w_{zi}, \\\\theta_{xi}, \\\\theta_{yi}')\n",
    "w_zj, theta_xj, theta_yj = symbols('w_{zj}, \\\\theta_{xj}, \\\\theta_{yj}')\n",
    "w_zm, theta_xm, theta_ym = symbols('w_{zm}, \\\\theta_{xm}, \\\\theta_{ym}')\n",
    "w_zn, theta_xn, theta_yn = symbols('w_{zn}, \\\\theta_{xn}, \\\\theta_{yn}')\n",
    "\n",
    "d = Matrix([w_zi, theta_xi, theta_yi,\n",
    "            w_zj, theta_xj, theta_yj,\n",
    "            w_zm, theta_xm, theta_ym,\n",
    "            w_zn, theta_xn, theta_yn])\n",
    "d"
   ]
  },
  {
   "cell_type": "code",
   "execution_count": null,
   "metadata": {},
   "outputs": [],
   "source": [
    "w = Matrix([h1, 0, 0, h2, 0, 0, h3, 0, 0, h4, 0, 0]).T*d\n",
    "beta_x = -1*Matrix([0, 0, h1, 0, 0, h2, 0, 0, h3, 0, 0, h4]).T*d\n",
    "beta_y = Matrix([0, h1, 0, 0, h2, 0, 0, h3, 0, 0, h4, 0]).T*d\n",
    "display(w, beta_x, beta_y)"
   ]
  },
  {
   "cell_type": "code",
   "execution_count": null,
   "metadata": {},
   "outputs": [],
   "source": [
    "beta_x_dx = 1/J.det()*(diff(y, s)*diff(beta_x, r) - diff(y, r)*diff(beta_x, s))\n",
    "beta_x_dy = 1/J.det()*(-diff(x, s)*diff(beta_x, r) + diff(x, r)*diff(beta_x, s))\n",
    "beta_y_dx = 1/J.det()*(diff(y, s)*diff(beta_y, r) - diff(y, r)*diff(beta_y, s))\n",
    "beta_y_dy = 1/J.det()*(-diff(x, s)*diff(beta_y, r) + diff(x, r)*diff(beta_y, s))"
   ]
  },
  {
   "cell_type": "code",
   "execution_count": null,
   "metadata": {},
   "outputs": [],
   "source": [
    "B_kappa = Matrix([[0, 0,           diff(-h1, r), 0, 0,           diff(-h2, r), 0, 0,           diff(-h3, r), 0, 0,           diff(-h4, r)],\n",
    "                  [0, diff(h1, s), 0,            0, diff(h2, s), 0,            0, diff(h3, s), 0,            0, diff(h4, s), 0],\n",
    "                  [0, diff(h1, r), diff(-h1, s), 0, diff(h2, r), diff(-h2, s), 0, diff(h3, r), diff(-h3, s), 0, diff(h4, r), diff(-h4, s)]])\n",
    "B_kappa"
   ]
  },
  {
   "cell_type": "code",
   "execution_count": null,
   "metadata": {},
   "outputs": [],
   "source": [
    "x = \n",
    "gr = diff(x, r)"
   ]
  }
 ],
 "metadata": {
  "kernelspec": {
   "display_name": "Python 3",
   "language": "python",
   "name": "python3"
  },
  "language_info": {
   "codemirror_mode": {
    "name": "ipython",
    "version": 3
   },
   "file_extension": ".py",
   "mimetype": "text/x-python",
   "name": "python",
   "nbconvert_exporter": "python",
   "pygments_lexer": "ipython3",
   "version": "3.7.7"
  }
 },
 "nbformat": 4,
 "nbformat_minor": 4
}
