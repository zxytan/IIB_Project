{
 "cells": [
  {
   "cell_type": "code",
   "execution_count": 1,
   "metadata": {},
   "outputs": [],
   "source": [
    "from GPyOpt.methods import BayesianOptimization\n",
    "import numpy as np\n",
    "from numpy.random import randn\n",
    "import time\n",
    "import pandas as pd\n",
    "import matplotlib.pyplot as plt"
   ]
  },
  {
   "cell_type": "code",
   "execution_count": 2,
   "metadata": {},
   "outputs": [],
   "source": [
    "np.random.seed(24)"
   ]
  },
  {
   "cell_type": "code",
   "execution_count": 3,
   "metadata": {},
   "outputs": [],
   "source": [
    "def one_dim(x):\n",
    "    #1-D\n",
    "    #optimum at x=0.96609, f(x)=-1.48907\n",
    "    return -(1.4-3*x)*np.sin(18*x)+randn()*sigma\n",
    "bounds_one_dim = [{'name':'x', 'type':'continuous', 'domain':(0, 1.2)}]"
   ]
  },
  {
   "cell_type": "code",
   "execution_count": 4,
   "metadata": {},
   "outputs": [],
   "source": [
    "def booth(X):\n",
    "    #2-D\n",
    "    #optimum at X=[1,3] f(X)=0\n",
    "    X = np.atleast_2d(X)\n",
    "    x = X[:, 0]\n",
    "    y = X[:, 1]\n",
    "    return((x+2*y-7)**2+(2*x+y-5)**2)+randn()*sigma\n",
    "bounds_booth = [{'name': 'x', 'type': 'continuous', 'domain': (-10,10)}]"
   ]
  },
  {
   "cell_type": "code",
   "execution_count": 5,
   "metadata": {},
   "outputs": [],
   "source": [
    "def sphere(X):\n",
    "    #n-D\n",
    "    #optimum at X = [0,...,0], f(X)=0\n",
    "    X = np.atleast_2d(X)\n",
    "    return(np.sum(np.power(X,2), 1))+randn()*sigma\n",
    "bounds_sphere = [{'name': 'x', 'type': 'continuous', 'domain': (-1,1)}]"
   ]
  },
  {
   "cell_type": "code",
   "execution_count": 6,
   "metadata": {},
   "outputs": [],
   "source": [
    "def rastrigin(X):\n",
    "    #n-D\n",
    "    #optimum at X=[0,...,0], f(X)=0\n",
    "    X = np.atleast_2d(X)\n",
    "    return(10*len(X[0])+np.sum(np.power(X,2)-10*np.cos(2*np.pi*X),1))+randn()*sigma\n",
    "bounds_rastrigin = [{'name': 'x', 'type': 'continuous', 'domain': (-5.12,5.12)}]"
   ]
  },
  {
   "cell_type": "markdown",
   "metadata": {},
   "source": [
    "Hyperparameter testing done in gpyopt_test.py"
   ]
  },
  {
   "cell_type": "code",
   "execution_count": null,
   "metadata": {},
   "outputs": [],
   "source": [
    "# demonstrate with 1D - acquisition, noise effect, convergence\n",
    "sigma=0\n",
    "xdata = np.linspace(0, 1.2, 100)\n",
    "ydata = [one_dim(x) for x in xdata]\n",
    "plt.plot(xdata, ydata)\n",
    "plt.show()\n",
    "sigma = 0.1\n",
    "myOpt = BayesianOptimization(one_dim, domain=bounds_one_dim, exact_feval=True)\n",
    "myOpt.run_optimization(max_iter=50, max_time=60, eps=1e-6)\n",
    "myOpt.plot_acquisition()\n",
    "myOpt.plot_convergence()\n",
    "print(myOpt.x_opt, myOpt.fx_opt)"
   ]
  },
  {
   "cell_type": "code",
   "execution_count": null,
   "metadata": {},
   "outputs": [],
   "source": [
    "# show convergence for high dimension optimisation\n",
    "sigma = 0\n",
    "n=12\n",
    "myOpt = BayesianOptimization(rastrigin, domain=bounds_rastrigin*n, exact_feval=True)\n",
    "myOpt.run_optimization(max_iter=500, eps=1e-6)\n",
    "myOpt.plot_convergence()\n",
    "print(myOpt.x_opt, myOpt.fx_opt)"
   ]
  },
  {
   "cell_type": "code",
   "execution_count": 13,
   "metadata": {
    "scrolled": true
   },
   "outputs": [
    {
     "name": "stdout",
     "output_type": "stream",
     "text": [
      "[-0.00329089  0.00079651  0.00576259 -0.00122352  0.00094411  0.00286922\n",
      " -0.00053055 -0.002933    0.00235334 -0.00241114] {'n': 10, 'function': 'sphere', 'sigma': 0, 'max_it': 50, 'max_time': 600, 'acquisition func': 'LCB', 'eucl_dist to true x_opt': 0.008690701404103529, 'diff to true f(x_opt)': 7.552829089528704e-05, 'actual_it': 50, 'actual_time': 10.97363805770874}\n",
      "[ 0.00405081 -0.00574328  0.00768452 -0.00276936  0.00519095  0.00198687\n",
      " -0.00781332 -0.00429094 -0.00131631  0.00026437] {'n': 10, 'function': 'sphere', 'sigma': 0, 'max_it': 70, 'max_time': 600, 'acquisition func': 'LCB', 'eucl_dist to true x_opt': 0.015108669956903848, 'diff to true f(x_opt)': 0.0002282719078666489, 'actual_it': 70, 'actual_time': 16.604354858398438}\n",
      "[-8.95152106e-04  5.43038431e-03 -3.80694537e-03  7.04380039e-03\n",
      " -9.07986306e-03 -6.61334674e-03  9.69889326e-05 -3.88002457e-05\n",
      "  9.89950983e-04 -2.90126203e-03] {'n': 10, 'function': 'sphere', 'sigma': 0, 'max_it': 90, 'max_time': 600, 'acquisition func': 'LCB', 'eucl_dist to true x_opt': 0.015165316775422372, 'diff to true f(x_opt)': 0.00022998683289890718, 'actual_it': 90, 'actual_time': 31.128129959106445}\n",
      "[-0.00118242  0.00599202 -0.0012965  -0.00578688  0.00592208  0.00190349\n",
      " -0.00343303 -0.00063877  0.00365304  0.00295627] {'n': 10, 'function': 'sphere', 'sigma': 0, 'max_it': 110, 'max_time': 600, 'acquisition func': 'LCB', 'eucl_dist to true x_opt': 0.012059999461416282, 'diff to true f(x_opt)': 0.00014544358700936105, 'actual_it': 110, 'actual_time': 40.94274973869324}\n",
      "[ 3.07539061e-04  4.93417355e-03 -1.66488903e-05  1.53486240e-03\n",
      " -4.23293971e-03  1.79895251e-03 -3.17149644e-03  5.55261570e-03\n",
      " -1.40972339e-03  3.76555474e-03] {'n': 10, 'function': 'sphere', 'sigma': 0, 'max_it': 130, 'max_time': 600, 'acquisition func': 'LCB', 'eucl_dist to true x_opt': 0.010247311392057725, 'diff to true f(x_opt)': 0.00010500739076579604, 'actual_it': 130, 'actual_time': 57.864848136901855}\n",
      "[-2.11120911e-03 -2.84624184e-04 -3.92726868e-03 -5.00776581e-03\n",
      "  8.09970126e-05  1.71502342e-03  2.39106581e-03 -8.84039480e-04\n",
      "  1.11854488e-03  9.92406738e-04] {'n': 10, 'function': 'sphere', 'sigma': 0, 'max_it': 150, 'max_time': 600, 'acquisition func': 'LCB', 'eucl_dist to true x_opt': 0.007531399183171961, 'diff to true f(x_opt)': 5.6721973656283285e-05, 'actual_it': 150, 'actual_time': 80.72283172607422}\n",
      "[ 1.9343804  -3.03106855  1.79708931 -1.82034319 -0.03058267  3.1220095\n",
      "  0.83336172 -3.96539907 -1.79020404  0.83277865] {'n': 10, 'function': 'rastrigin', 'sigma': 0, 'max_it': 50, 'max_time': 600, 'acquisition func': 'LCB', 'eucl_dist to true x_opt': 7.038287741904167, 'diff to true f(x_opt)': 84.11850868224778, 'actual_it': 50, 'actual_time': 11.811001777648926}\n",
      "[ 2.07938037 -0.75516022 -2.06826478 -3.10183913 -4.02789964  2.9481453\n",
      "  2.16609711  0.05378286 -3.26227618 -2.82569875] {'n': 10, 'function': 'rastrigin', 'sigma': 0, 'max_it': 70, 'max_time': 600, 'acquisition func': 'LCB', 'eucl_dist to true x_opt': 8.187224174248014, 'diff to true f(x_opt)': 103.21439106079147, 'actual_it': 70, 'actual_time': 13.571788787841797}\n",
      "[-0.81614379  3.91921638  0.11221082  0.7233301   0.31761595 -3.40371426\n",
      "  2.85148121 -2.84795587 -0.10856698  1.91062139] {'n': 10, 'function': 'rastrigin', 'sigma': 0, 'max_it': 90, 'max_time': 600, 'acquisition func': 'LCB', 'eucl_dist to true x_opt': 6.9391897740000905, 'diff to true f(x_opt)': 113.82203257120206, 'actual_it': 90, 'actual_time': 17.66318106651306}\n",
      "[ 0.97355695  0.13676149  1.85015149  1.04008079  0.91219629  0.0721688\n",
      " -3.00986644  0.01764621 -0.97958418 -1.09567224] {'n': 10, 'function': 'rastrigin', 'sigma': 0, 'max_it': 110, 'max_time': 600, 'acquisition func': 'LCB', 'eucl_dist to true x_opt': 4.186686760423284, 'diff to true f(x_opt)': 29.97619483811728, 'actual_it': 110, 'actual_time': 30.807818174362183}\n",
      "[ 1.99669382 -2.96812554 -2.02258712  1.05289071 -0.31912439  1.84045675\n",
      " -0.09886715 -1.93460837  1.12178673  0.10656288] {'n': 10, 'function': 'rastrigin', 'sigma': 0, 'max_it': 130, 'max_time': 600, 'acquisition func': 'LCB', 'eucl_dist to true x_opt': 5.1485298585543635, 'diff to true f(x_opt)': 53.82961809029563, 'actual_it': 130, 'actual_time': 32.322585105895996}\n",
      "[ 1.04040559 -1.92810887 -0.07693787 -1.08249893 -1.99944507  2.04856722\n",
      "  0.91245719 -0.06360806  0.96362475 -0.91397666] {'n': 10, 'function': 'rastrigin', 'sigma': 0, 'max_it': 150, 'max_time': 600, 'acquisition func': 'LCB', 'eucl_dist to true x_opt': 4.095452266713929, 'diff to true f(x_opt)': 24.966421026905095, 'actual_it': 150, 'actual_time': 61.89057111740112}\n",
      "[-0.00634696  0.00307778 -0.0003216  -0.00280276  0.00070098 -0.00090402\n",
      "  0.00446061 -0.00824289 -0.0020611   0.00248216] {'n': 10, 'function': 'sphere', 'sigma': 0, 'max_it': 50, 'max_time': 600, 'acquisition func': 'LCB', 'eucl_dist to true x_opt': 0.012540963008750667, 'diff to true f(x_opt)': 0.00015727575318685258, 'actual_it': 50, 'actual_time': 17.783327341079712}\n",
      "[-0.0020581  -0.00276538  0.00025791  0.00331586  0.00297219 -0.00455445\n",
      "  0.00382842  0.00518056  0.00181915  0.00276445] {'n': 10, 'function': 'sphere', 'sigma': 0, 'max_it': 70, 'max_time': 600, 'acquisition func': 'LCB', 'eucl_dist to true x_opt': 0.01024538633682245, 'diff to true f(x_opt)': 0.00010496794119074817, 'actual_it': 70, 'actual_time': 24.317269325256348}\n",
      "[-2.75277224e-03  3.42496747e-03  3.40690098e-03  1.30932164e-03\n",
      "  1.30134777e-03 -1.46665772e-03 -9.80715931e-03 -3.03727401e-03\n",
      "  7.26915421e-05 -2.40034320e-03] {'n': 10, 'function': 'sphere', 'sigma': 0, 'max_it': 90, 'max_time': 600, 'acquisition func': 'LCB', 'eucl_dist to true x_opt': 0.012150982848608195, 'diff to true f(x_opt)': 0.00014764638418717052, 'actual_it': 90, 'actual_time': 35.0339789390564}\n",
      "[-2.16032340e-03 -1.94647302e-03  1.28703980e-03 -4.70422049e-03\n",
      " -1.08526141e-03  7.03247565e-05 -2.25177552e-03  2.77989143e-03\n",
      " -1.08550927e-03  2.10286432e-04] {'n': 10, 'function': 'sphere', 'sigma': 0, 'max_it': 110, 'max_time': 600, 'acquisition func': 'LCB', 'eucl_dist to true x_opt': 0.00688806897771165, 'diff to true f(x_opt)': 4.744549424171362e-05, 'actual_it': 110, 'actual_time': 45.47835683822632}\n",
      "[-0.00283836 -0.00263344 -0.00228672 -0.00042947  0.00332421 -0.00217496\n",
      " -0.00169497 -0.00370059 -0.00223272  0.00209096] {'n': 10, 'function': 'sphere', 'sigma': 0, 'max_it': 130, 'max_time': 600, 'acquisition func': 'LCB', 'eucl_dist to true x_opt': 0.007880997335473972, 'diff to true f(x_opt)': 6.211011900174785e-05, 'actual_it': 130, 'actual_time': 57.816426038742065}\n",
      "[ 1.15145009e-03  5.50915639e-03  2.89582917e-03  1.38309212e-03\n",
      "  7.50812850e-04 -1.68128895e-03  3.70109278e-03 -1.63578819e-03\n",
      " -1.61896812e-05 -2.55218125e-03] {'n': 10, 'function': 'sphere', 'sigma': 0, 'max_it': 150, 'max_time': 600, 'acquisition func': 'LCB', 'eucl_dist to true x_opt': 0.008261576502420131, 'diff to true f(x_opt)': 6.825364630534043e-05, 'actual_it': 150, 'actual_time': 59.929611921310425}\n",
      "[-0.66215196  0.98807238 -2.78282152 -0.29759454 -0.12798836 -0.01008931\n",
      "  0.92046079 -4.09674734  2.0762326  -3.94004884] {'n': 10, 'function': 'rastrigin', 'sigma': 0, 'max_it': 50, 'max_time': 600, 'acquisition func': 'LCB', 'eucl_dist to true x_opt': 6.835874974587153, 'diff to true f(x_opt)': 90.82322239380814, 'actual_it': 50, 'actual_time': 6.044504165649414}\n",
      "[ 1.94470126 -2.8994723   0.8188156   2.8064088   3.97694151 -1.11812641\n",
      " -2.96239378  0.01969299  1.91467882 -0.08039948] {'n': 10, 'function': 'rastrigin', 'sigma': 0, 'max_it': 70, 'max_time': 600, 'acquisition func': 'LCB', 'eucl_dist to true x_opt': 7.088729520820724, 'diff to true f(x_opt)': 70.85738722929149, 'actual_it': 70, 'actual_time': 15.4757080078125}\n",
      "[-0.16340242 -0.03253354 -1.18071623 -0.93664821  0.02004499 -0.75083625\n",
      " -1.00104452  0.01115166 -1.1087159   3.92556079] {'n': 10, 'function': 'rastrigin', 'sigma': 0, 'max_it': 90, 'max_time': 600, 'acquisition func': 'LCB', 'eucl_dist to true x_opt': 4.528223633356741, 'diff to true f(x_opt)': 45.47034035667075, 'actual_it': 90, 'actual_time': 19.65504002571106}\n",
      "[-2.0140403  -0.0282046  -2.91901594 -0.88603444  2.0290178   0.02671692\n",
      "  2.05766052  3.93442724  3.01878569 -0.02430839] {'n': 10, 'function': 'rastrigin', 'sigma': 0, 'max_it': 110, 'max_time': 600, 'acquisition func': 'LCB', 'eucl_dist to true x_opt': 6.804985998378222, 'diff to true f(x_opt)': 52.204532462124384, 'actual_it': 110, 'actual_time': 23.446858882904053}\n"
     ]
    },
    {
     "name": "stdout",
     "output_type": "stream",
     "text": [
      "[-0.16157447  0.06942965 -1.14486163 -0.87170773  2.0988701   0.84556332\n",
      " -1.07665971 -0.96586545 -1.0458664   3.04358312] {'n': 10, 'function': 'rastrigin', 'sigma': 0, 'max_it': 130, 'max_time': 600, 'acquisition func': 'LCB', 'eucl_dist to true x_opt': 4.435207913857802, 'diff to true f(x_opt)': 40.643995302008946, 'actual_it': 130, 'actual_time': 37.042019844055176}\n",
      "[ 2.9069937  -2.13541273  3.02911268 -1.02106902 -1.96026571 -0.04037588\n",
      "  2.05215183  2.06533612  0.88740404  1.98623602] {'n': 10, 'function': 'rastrigin', 'sigma': 0, 'max_it': 150, 'max_time': 600, 'acquisition func': 'LCB', 'eucl_dist to true x_opt': 6.346852538527591, 'diff to true f(x_opt)': 50.032928581468326, 'actual_it': 150, 'actual_time': 49.78085207939148}\n",
      "[ 0.00499552 -0.00100994  0.00312182  0.00024215  0.00492225 -0.0023011\n",
      "  0.00225405 -0.00176083 -0.00680267 -0.00283959] {'n': 10, 'function': 'sphere', 'sigma': 0, 'max_it': 50, 'max_time': 600, 'acquisition func': 'LCB', 'eucl_dist to true x_opt': 0.011305929231356825, 'diff to true f(x_opt)': 0.00012782403578444874, 'actual_it': 50, 'actual_time': 16.46838116645813}\n",
      "[ 0.00563998  0.00270712  0.00019724 -0.00077392 -0.00251068  0.00264166\n",
      "  0.00421295 -0.00045301  0.00252211 -0.00720127] {'n': 10, 'function': 'sphere', 'sigma': 0, 'max_it': 70, 'max_time': 600, 'acquisition func': 'LCB', 'eucl_dist to true x_opt': 0.011367992014884944, 'diff to true f(x_opt)': 0.00012923124245048785, 'actual_it': 70, 'actual_time': 22.053148984909058}\n",
      "[ 0.00358179 -0.00499571  0.00294482 -0.00169612 -0.00564955  0.00018728\n",
      "  0.00549458 -0.00093396  0.00088608  0.00406092] {'n': 10, 'function': 'sphere', 'sigma': 0, 'max_it': 90, 'max_time': 600, 'acquisition func': 'LCB', 'eucl_dist to true x_opt': 0.011385363220496112, 'diff to true f(x_opt)': 0.0001296264956626256, 'actual_it': 90, 'actual_time': 34.52134680747986}\n",
      "[ 2.84359726e-03  2.02404183e-04  5.14965976e-03 -3.21579811e-03\n",
      "  5.72939917e-04 -8.38509413e-03 -2.46683494e-03 -5.58881618e-05\n",
      " -2.61862921e-03  3.51949520e-03] {'n': 10, 'function': 'sphere', 'sigma': 0, 'max_it': 110, 'max_time': 600, 'acquisition func': 'LCB', 'eucl_dist to true x_opt': 0.011872568939792121, 'diff to true f(x_opt)': 0.0001409578932301166, 'actual_it': 110, 'actual_time': 45.20476317405701}\n",
      "[-2.98172580e-04  5.42736147e-04  3.27911095e-03 -4.60370832e-04\n",
      " -5.15030549e-05 -1.74171979e-03 -1.36600897e-03  6.40897478e-05\n",
      " -4.77364643e-04  4.06095806e-03] {'n': 10, 'function': 'sphere', 'sigma': 0, 'max_it': 130, 'max_time': 600, 'acquisition func': 'LCB', 'eucl_dist to true x_opt': 0.005742261322539938, 'diff to true f(x_opt)': 3.2973565096338115e-05, 'actual_it': 130, 'actual_time': 55.31031107902527}\n",
      "[ 2.14812427e-03  4.76333761e-03  1.40235584e-03 -3.45264257e-03\n",
      " -1.57546584e-05  4.24896875e-04  3.63247633e-03  5.11181665e-03\n",
      "  2.48665903e-03 -6.74318479e-04] {'n': 10, 'function': 'sphere', 'sigma': 0, 'max_it': 150, 'max_time': 600, 'acquisition func': 'LCB', 'eucl_dist to true x_opt': 0.009345356255073935, 'diff to true f(x_opt)': 8.733568353424954e-05, 'actual_it': 150, 'actual_time': 60.44852304458618}\n",
      "[ 0.81298249  0.05790474  3.73732976  0.8322821   2.0713025  -0.75100698\n",
      "  0.00710823  1.07862264  1.28697636 -2.41484755] {'n': 10, 'function': 'rastrigin', 'sigma': 0, 'max_it': 50, 'max_time': 600, 'acquisition func': 'LCB', 'eucl_dist to true x_opt': 5.369376167057479, 'diff to true f(x_opt)': 94.51665733761185, 'actual_it': 50, 'actual_time': 10.695137023925781}\n",
      "[-2.79853087  0.30975536  1.51913748  3.00755547 -0.26530073  2.87795803\n",
      "  0.79875021 -0.02609728 -3.18762444  2.93088125] {'n': 10, 'function': 'rastrigin', 'sigma': 0, 'max_it': 70, 'max_time': 600, 'acquisition func': 'LCB', 'eucl_dist to true x_opt': 6.857376787705293, 'diff to true f(x_opt)': 115.61343536964976, 'actual_it': 70, 'actual_time': 10.49589490890503}\n",
      "[ 0.30690823 -0.17606772  2.78538243 -1.01402055  1.54913536 -1.90687279\n",
      "  2.42113522 -1.04572528 -2.79208733 -2.04976854] {'n': 10, 'function': 'rastrigin', 'sigma': 0, 'max_it': 90, 'max_time': 600, 'acquisition func': 'LCB', 'eucl_dist to true x_opt': 5.822414408454346, 'diff to true f(x_opt)': 109.02348678489888, 'actual_it': 90, 'actual_time': 13.6792311668396}\n",
      "[-3.00167241 -2.71792475  3.78166231  0.00940253  0.91709344  0.09114809\n",
      "  1.94529084 -0.04203199 -0.99930911 -1.79177081] {'n': 10, 'function': 'rastrigin', 'sigma': 0, 'max_it': 110, 'max_time': 600, 'acquisition func': 'LCB', 'eucl_dist to true x_opt': 6.2882877838075935, 'diff to true f(x_opt)': 70.84526059012083, 'actual_it': 110, 'actual_time': 26.094946146011353}\n",
      "[ 1.96866266  2.00119955 -1.00216209  0.03682419  0.99105607  1.00248923\n",
      "  0.01400864 -2.94532565 -1.93890723  1.10778245] {'n': 10, 'function': 'rastrigin', 'sigma': 0, 'max_it': 130, 'max_time': 600, 'acquisition func': 'LCB', 'eucl_dist to true x_opt': 4.953279384413144, 'diff to true f(x_opt)': 28.570414367815303, 'actual_it': 130, 'actual_time': 42.62103486061096}\n",
      "[ 1.02037519e+00  2.58803074e-03 -1.06200717e+00  1.00224158e+00\n",
      "  1.94876237e+00  4.10277961e-02 -9.70004795e-01 -2.91905687e+00\n",
      "  1.97592286e+00  2.00484406e+00] {'n': 10, 'function': 'rastrigin', 'sigma': 0, 'max_it': 150, 'max_time': 600, 'acquisition func': 'LCB', 'eucl_dist to true x_opt': 4.935417998708905, 'diff to true f(x_opt)': 27.59763080015064, 'actual_it': 150, 'actual_time': 43.376779079437256}\n",
      "[-0.00479717  0.00192792  0.00045373  0.00782303 -0.00084556 -0.00197608\n",
      "  0.00718022 -0.00468512 -0.00232117 -0.00345692] {'n': 10, 'function': 'sphere', 'sigma': 0, 'max_it': 50, 'max_time': 600, 'acquisition func': 'LCB', 'eucl_dist to true x_opt': 0.01354988262098804, 'diff to true f(x_opt)': 0.00018359931904255372, 'actual_it': 50, 'actual_time': 13.846635103225708}\n",
      "[ 0.00245908 -0.00143652  0.00206132  0.00048168  0.00390797 -0.00375915\n",
      "  0.00396413  0.00036214 -0.00214616 -0.00121046] {'n': 10, 'function': 'sphere', 'sigma': 0, 'max_it': 70, 'max_time': 600, 'acquisition func': 'LCB', 'eucl_dist to true x_opt': 0.007994489081322623, 'diff to true f(x_opt)': 6.391185567138666e-05, 'actual_it': 70, 'actual_time': 21.642982959747314}\n",
      "[ 0.00509927  0.00492017  0.00019508  0.00210055 -0.00826145  0.00127629\n",
      "  0.00456892  0.00641974 -0.00469091  0.00607893] {'n': 10, 'function': 'sphere', 'sigma': 0, 'max_it': 90, 'max_time': 600, 'acquisition func': 'LCB', 'eucl_dist to true x_opt': 0.015671234270974586, 'diff to true f(x_opt)': 0.0002455875835757684, 'actual_it': 90, 'actual_time': 28.384740114212036}\n",
      "[ 3.62246438e-03  2.68864680e-03 -7.87623759e-03  1.82881771e-03\n",
      "  1.52996731e-03  7.93975874e-03 -2.59097117e-03 -2.99172621e-05\n",
      " -1.48946006e-03  5.00276947e-03] {'n': 10, 'function': 'sphere', 'sigma': 0, 'max_it': 110, 'max_time': 600, 'acquisition func': 'LCB', 'eucl_dist to true x_opt': 0.013604100548722499, 'diff to true f(x_opt)': 0.0001850715517397518, 'actual_it': 110, 'actual_time': 38.79882597923279}\n",
      "[ 0.00205755 -0.00740088  0.00020679  0.00012155  0.00163386 -0.00486433\n",
      "  0.0041277   0.00150839  0.00187569 -0.00400889] {'n': 10, 'function': 'sphere', 'sigma': 0, 'max_it': 130, 'max_time': 600, 'acquisition func': 'LCB', 'eucl_dist to true x_opt': 0.01114889305268116, 'diff to true f(x_opt)': 0.00012429781630012222, 'actual_it': 130, 'actual_time': 52.96640586853027}\n",
      "[-0.00291618 -0.00437726 -0.00457093  0.00468445  0.00505378  0.00431177\n",
      "  0.0015032  -0.00261062 -0.00731842 -0.00589002] {'n': 10, 'function': 'sphere', 'sigma': 0, 'max_it': 150, 'max_time': 600, 'acquisition func': 'LCB', 'eucl_dist to true x_opt': 0.014558859972911285, 'diff to true f(x_opt)': 0.0002119604037108384, 'actual_it': 150, 'actual_time': 65.24483680725098}\n",
      "[ 1.79103053 -1.63812417  1.88018599  2.79971363 -1.01599968 -0.16959665\n",
      " -0.95189692  0.41900735 -2.94175484 -0.75024672] {'n': 10, 'function': 'rastrigin', 'sigma': 0, 'max_it': 50, 'max_time': 600, 'acquisition func': 'LCB', 'eucl_dist to true x_opt': 5.350160914032373, 'diff to true f(x_opt)': 97.21213403163566, 'actual_it': 50, 'actual_time': 18.084041833877563}\n",
      "[-0.07136837  2.98339369  1.90843671 -1.01218365  3.12214825 -2.17595901\n",
      "  1.99273971 -0.09527413 -2.85419699 -0.95789424] {'n': 10, 'function': 'rastrigin', 'sigma': 0, 'max_it': 70, 'max_time': 600, 'acquisition func': 'LCB', 'eucl_dist to true x_opt': 6.410856072529852, 'diff to true f(x_opt)': 58.10650100826875, 'actual_it': 70, 'actual_time': 19.80212712287903}\n"
     ]
    },
    {
     "name": "stdout",
     "output_type": "stream",
     "text": [
      "[ 2.0956074   1.02278394 -0.89244498 -0.92008344 -2.92517607 -1.90801625\n",
      "  2.93852652 -2.04522612  0.95322978 -0.03627246] {'n': 10, 'function': 'rastrigin', 'sigma': 0, 'max_it': 90, 'max_time': 600, 'acquisition func': 'LCB', 'eucl_dist to true x_opt': 5.745058806383934, 'diff to true f(x_opt)': 42.82506943562774, 'actual_it': 90, 'actual_time': 21.79994797706604}\n",
      "[-1.98872656  1.9533658   1.94609238  1.99233449 -0.97895326  0.00298624\n",
      "  0.97605765  1.99243187 -2.94490726 -0.04717353] {'n': 10, 'function': 'rastrigin', 'sigma': 0, 'max_it': 110, 'max_time': 600, 'acquisition func': 'LCB', 'eucl_dist to true x_opt': 5.484786168662585, 'diff to true f(x_opt)': 32.35647177211163, 'actual_it': 110, 'actual_time': 33.51465702056885}\n",
      "[-0.0088978   0.978987   -2.04986889  3.0228368  -0.0055889  -0.01378869\n",
      "  0.0062662  -0.04727745 -1.98206715  1.00984488] {'n': 10, 'function': 'rastrigin', 'sigma': 0, 'max_it': 130, 'max_time': 600, 'acquisition func': 'LCB', 'eucl_dist to true x_opt': 4.387353660143675, 'diff to true f(x_opt)': 20.51311224449306, 'actual_it': 130, 'actual_time': 36.28613519668579}\n",
      "[ 0.02902888  0.97970641 -0.92817308  1.97404778 -1.97747332  3.02111791\n",
      " -0.97025537 -1.05382959  1.0059885  -2.03473449] {'n': 10, 'function': 'rastrigin', 'sigma': 0, 'max_it': 150, 'max_time': 600, 'acquisition func': 'LCB', 'eucl_dist to true x_opt': 5.095164466630338, 'diff to true f(x_opt)': 28.514467413999157, 'actual_it': 150, 'actual_time': 36.78027296066284}\n",
      "[ 4.15773302e-03 -8.22864818e-04 -6.83004465e-03 -1.74923845e-05\n",
      " -1.91410882e-03  6.21738651e-03  1.45905592e-03  1.19774988e-03\n",
      "  1.45258917e-03 -4.31810578e-03] {'n': 10, 'function': 'sphere', 'sigma': 0, 'max_it': 50, 'max_time': 600, 'acquisition func': 'LCB', 'eucl_dist to true x_opt': 0.011456564744518425, 'diff to true f(x_opt)': 0.00013125287574534256, 'actual_it': 50, 'actual_time': 12.981229782104492}\n",
      "[-0.00060751  0.00161997 -0.00209296 -0.00060771 -0.00331823 -0.00163038\n",
      " -0.00181608  0.0054337   0.00342693  0.00186157] {'n': 10, 'function': 'sphere', 'sigma': 0, 'max_it': 70, 'max_time': 600, 'acquisition func': 'LCB', 'eucl_dist to true x_opt': 0.008333336806755395, 'diff to true f(x_opt)': 6.944450233482419e-05, 'actual_it': 70, 'actual_time': 21.907149076461792}\n",
      "[-1.69997130e-05 -6.01423987e-05  5.39404884e-03  9.09888563e-04\n",
      " -1.57971693e-03 -3.35601001e-03 -6.29072883e-03  4.22530971e-03\n",
      " -4.98131824e-03  4.19124437e-03] {'n': 10, 'function': 'sphere', 'sigma': 0, 'max_it': 90, 'max_time': 600, 'acquisition func': 'LCB', 'eucl_dist to true x_opt': 0.01197883329128893, 'diff to true f(x_opt)': 0.00014349244702049202, 'actual_it': 90, 'actual_time': 29.11735987663269}\n",
      "[-0.00484053 -0.00112252 -0.0024081   0.00137896 -0.00099272  0.00290265\n",
      "  0.00077237 -0.00011749  0.00266738 -0.0022813 ] {'n': 10, 'function': 'sphere', 'sigma': 0, 'max_it': 110, 'max_time': 600, 'acquisition func': 'LCB', 'eucl_dist to true x_opt': 0.007398094420525948, 'diff to true f(x_opt)': 5.473180105501717e-05, 'actual_it': 110, 'actual_time': 37.02402186393738}\n",
      "[ 0.00369118  0.00256979 -0.00059082 -0.0071106   0.00666916  0.0034805\n",
      " -0.00476088  0.00791804  0.00679075 -0.0076646 ] {'n': 10, 'function': 'sphere', 'sigma': 0, 'max_it': 130, 'max_time': 600, 'acquisition func': 'LCB', 'eucl_dist to true x_opt': 0.017831199365303255, 'diff to true f(x_opt)': 0.0003179516708051912, 'actual_it': 130, 'actual_time': 47.94967293739319}\n",
      "[ 0.00718049 -0.00354635  0.00271241  0.00795802 -0.00255011  0.00464579\n",
      " -0.00145593  0.00658775 -0.00412362 -0.0085713 ] {'n': 10, 'function': 'sphere', 'sigma': 0, 'max_it': 150, 'max_time': 600, 'acquisition func': 'LCB', 'eucl_dist to true x_opt': 0.017288707937828787, 'diff to true f(x_opt)': 0.0002988994221595441, 'actual_it': 150, 'actual_time': 65.4755220413208}\n",
      "[ 1.8440544  -1.16827225  1.92816573 -2.01467026  1.95321376 -1.96436142\n",
      "  1.24245197  2.69512442  3.1115419   1.95233081] {'n': 10, 'function': 'rastrigin', 'sigma': 0, 'max_it': 50, 'max_time': 600, 'acquisition func': 'LCB', 'eucl_dist to true x_opt': 6.520471369363288, 'diff to true f(x_opt)': 79.46319303374162, 'actual_it': 50, 'actual_time': 13.182070016860962}\n",
      "[ 2.87452091 -1.78427304 -0.91862216  1.01411732 -1.8633624   1.81492345\n",
      "  1.27642642  0.18152196  3.00787465 -0.18101589] {'n': 10, 'function': 'rastrigin', 'sigma': 0, 'max_it': 70, 'max_time': 600, 'acquisition func': 'LCB', 'eucl_dist to true x_opt': 5.552221104235742, 'diff to true f(x_opt)': 75.75021916563017, 'actual_it': 70, 'actual_time': 15.6005699634552}\n",
      "[ 0.0128076  -0.87854753  1.9562236  -2.00662774 -2.0132777   3.05201199\n",
      " -3.92048789  2.89095443  0.01879954  0.02096372] {'n': 10, 'function': 'rastrigin', 'sigma': 0, 'max_it': 90, 'max_time': 600, 'acquisition func': 'LCB', 'eucl_dist to true x_opt': 6.761810073442309, 'diff to true f(x_opt)': 53.11142540623106, 'actual_it': 90, 'actual_time': 19.67778182029724}\n",
      "[ 0.94115372 -0.91850758 -1.97714731 -0.07104829 -1.03966033 -2.84512131\n",
      "  0.03349181 -0.0411931  -0.21611608  0.00400369] {'n': 10, 'function': 'rastrigin', 'sigma': 0, 'max_it': 110, 'max_time': 600, 'acquisition func': 'LCB', 'eucl_dist to true x_opt': 3.8559999331882526, 'diff to true f(x_opt)': 31.035552442815685, 'actual_it': 110, 'actual_time': 32.63364791870117}\n",
      "[-2.70561934e-01 -1.09299310e+00  2.77706236e+00  2.98554754e+00\n",
      " -1.59768465e-01  1.92341424e+00 -1.07740873e+00  6.54496491e-04\n",
      "  2.05006457e+00  1.33555176e-01] {'n': 10, 'function': 'rastrigin', 'sigma': 0, 'max_it': 130, 'max_time': 600, 'acquisition func': 'LCB', 'eucl_dist to true x_opt': 5.196139641560996, 'diff to true f(x_opt)': 59.030762250645836, 'actual_it': 130, 'actual_time': 49.13493013381958}\n",
      "[ 0.14910465  1.05837147  0.99357604 -0.03380475 -1.06141703 -2.73993297\n",
      " -1.0627513  -2.98529128 -0.95842491  2.31622445] {'n': 10, 'function': 'rastrigin', 'sigma': 0, 'max_it': 150, 'max_time': 600, 'acquisition func': 'LCB', 'eucl_dist to true x_opt': 5.204751247912945, 'diff to true f(x_opt)': 58.622731084783595, 'actual_it': 150, 'actual_time': 32.617894887924194}\n"
     ]
    }
   ],
   "source": [
    "# get optimisation timing as number of iterations increases\n",
    "results = pd.DataFrame(None)\n",
    "\n",
    "n = 10\n",
    "sigma = 0\n",
    "max_time = 600\n",
    "actual_x = [[0]*n]\n",
    "actual_f = 0\n",
    "acq_type = \"LCB\"\n",
    "\n",
    "for seed in [1,2,3,4,5]:\n",
    "    np.random.seed(seed)\n",
    "    for function in [sphere, rastrigin]:\n",
    "        if function == sphere:\n",
    "            domain = bounds_sphere*n\n",
    "            func_name = \"sphere\"\n",
    "        else:\n",
    "            domain = bounds_rastrigin*n\n",
    "            func_name = \"rastrigin\"\n",
    "        \n",
    "        for max_iter in [50, 70, 90, 110, 130, 150]:\n",
    "            myOpt = BayesianOptimization(function,\n",
    "                                        domain=domain,\n",
    "                                        acquisition_type=acq_type,\n",
    "                                        exact_feval=True)\n",
    "            myOpt.run_optimization(max_iter = max_iter, max_time = max_time, eps=1e-6)\n",
    "            \n",
    "            result = {\"n\": n,\"function\":func_name, \"sigma\": sigma, \"max_it\": max_iter, \"max_time\": max_time, \"acquisition func\": acq_type, \n",
    "                    \"eucl_dist to true x_opt\": float(np.linalg.norm(myOpt.x_opt-actual_x)), \n",
    "                    \"diff to true f(x_opt)\": float(np.abs(function(myOpt.x_opt)-actual_f)), \"actual_it\": myOpt.num_acquisitions,\n",
    "                    \"actual_time\": myOpt.cum_time}\n",
    "    \n",
    "            results = results.append(result, ignore_index=True)\n",
    "            print(myOpt.x_opt, result)\n"
   ]
  },
  {
   "cell_type": "code",
   "execution_count": 14,
   "metadata": {},
   "outputs": [],
   "source": [
    "results.to_excel(\"gpyopt_temp_results.xlsx\", index=False)"
   ]
  },
  {
   "cell_type": "markdown",
   "metadata": {},
   "source": [
    "Sparse GP tested in gpyopt_test.py"
   ]
  },
  {
   "cell_type": "code",
   "execution_count": null,
   "metadata": {},
   "outputs": [],
   "source": []
  }
 ],
 "metadata": {
  "kernelspec": {
   "display_name": "Python 3",
   "language": "python",
   "name": "python3"
  }
 },
 "nbformat": 4,
 "nbformat_minor": 4
}
