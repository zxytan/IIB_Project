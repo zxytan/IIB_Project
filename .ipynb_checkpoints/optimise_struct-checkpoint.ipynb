{
 "cells": [
  {
   "cell_type": "code",
   "execution_count": 1,
   "metadata": {},
   "outputs": [],
   "source": [
    "from test_structure import *\n",
    "from GPyOpt.methods import BayesianOptimization\n",
    "import numpy as np\n",
    "import matplotlib.pyplot as plt\n",
    "\n",
    "np.random.seed(1)"
   ]
  },
  {
   "cell_type": "code",
   "execution_count": 2,
   "metadata": {},
   "outputs": [],
   "source": [
    "def do_beam(X, n):\n",
    "    beam = test_beam()\n",
    "    node_locs = np.array(X[0:3*n]).reshape(n, 3)\n",
    "    beam.make_nodes(node_locs)\n",
    "    beam.make_mem_ps(X[3*n:])\n",
    "    beam.make_beam()\n",
    "    beam.record_member_info()\n",
    "    mass = beam.get_mass()\n",
    "    min_l = beam.get_min_l()\n",
    "    EI = beam.get_EI(100)\n",
    "    return(beam, EI, mass, min_l)"
   ]
  },
  {
   "cell_type": "code",
   "execution_count": 3,
   "metadata": {},
   "outputs": [],
   "source": [
    "def do_truss(X, n):\n",
    "    beam = test_beam()\n",
    "    node_locs = np.array(X[0:3*n]).reshape(n, 3)\n",
    "    beam.make_nodes(node_locs)\n",
    "    beam.make_mem_ps(X[3*n:])\n",
    "    beam.make_beam()\n",
    "    beam.record_member_info()\n",
    "    mass = beam.get_mass()\n",
    "    min_l = beam.get_min_l()\n",
    "    beam.release_moments()\n",
    "    EI = beam.get_EI(100)\n",
    "    return(beam, EI, mass, min_l)"
   ]
  },
  {
   "cell_type": "code",
   "execution_count": 4,
   "metadata": {},
   "outputs": [],
   "source": [
    "def f_hf_n(X, n, EI_req = 1*10**6):\n",
    "    \"\"\"\n",
    "    function for n extra non basic nodes\n",
    "    X[0:3*n] are node locations (x, y, z for each node)\n",
    "    X[3*n:] are member diameters (8+n*8+n*(n-1)/2)\n",
    "    EI_req is required EI\n",
    "    \"\"\"\n",
    "    beam, EI, mass, min_l = do_beam(X, n)\n",
    "    \n",
    "    if np.isnan(EI) or min_l<0.01:\n",
    "        return(10**9)\n",
    "    else:\n",
    "        return(mass+10**7*max(1/EI-1/EI_req, 0))"
   ]
  },
  {
   "cell_type": "code",
   "execution_count": null,
   "metadata": {},
   "outputs": [],
   "source": [
    "n = 2\n",
    "def f(X):\n",
    "    return(f_n(X[0], n, 1*10**6))\n",
    "\n",
    "node_domain = [{'name':'node_coord', 'type':'continuous', 'domain':(0, 1)}]\n",
    "d_domain = [{'name':'member_d', 'type':'continuous', 'domain':(0, 0.1)}]\n",
    "\n",
    "domain = node_domain*n*3 + d_domain*int((n+1)*8+n*(n-1)/2)\n",
    "#optimising for 1 non basic node, require EI 1*10**6\n",
    "myOpt = BayesianOptimization(f,\n",
    "                             domain=domain,\n",
    "                             acquisition_type=\"EI\",\n",
    "                             model_type='GP',\n",
    "                             exact_feval=True)\n",
    "myOpt.run_optimization(max_iter = 100, max_time = 600, eps=1e-6)"
   ]
  },
  {
   "cell_type": "code",
   "execution_count": null,
   "metadata": {},
   "outputs": [],
   "source": [
    "myOpt.plot_convergence()"
   ]
  },
  {
   "cell_type": "code",
   "execution_count": null,
   "metadata": {},
   "outputs": [],
   "source": [
    "print(myOpt.x_opt)"
   ]
  },
  {
   "cell_type": "code",
   "execution_count": null,
   "metadata": {},
   "outputs": [],
   "source": [
    "opt_beam, EI, mass, min_l= do_beam(myOpt.x_opt, n)\n",
    "print(EI)\n",
    "print(mass)\n",
    "print(min_l)"
   ]
  },
  {
   "cell_type": "code",
   "execution_count": null,
   "metadata": {},
   "outputs": [],
   "source": [
    "Visualization.RenderModel(opt_beam.beam, deformed_shape=True, deformed_scale=1, text_height=0.05)"
   ]
  },
  {
   "cell_type": "code",
   "execution_count": null,
   "metadata": {},
   "outputs": [],
   "source": []
  }
 ],
 "metadata": {
  "kernelspec": {
   "display_name": "Python 3",
   "language": "python",
   "name": "python3"
  },
  "language_info": {
   "codemirror_mode": {
    "name": "ipython",
    "version": 3
   },
   "file_extension": ".py",
   "mimetype": "text/x-python",
   "name": "python",
   "nbconvert_exporter": "python",
   "pygments_lexer": "ipython3",
   "version": "3.8.3"
  }
 },
 "nbformat": 4,
 "nbformat_minor": 4
}
