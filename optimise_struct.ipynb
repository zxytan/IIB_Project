{
 "cells": [
  {
   "cell_type": "code",
   "execution_count": 1,
   "metadata": {},
   "outputs": [],
   "source": [
    "from test_structure import *\n",
    "from GPyOpt.methods import BayesianOptimization\n",
    "import numpy as np\n",
    "import matplotlib.pyplot as plt\n",
    "\n",
    "np.random.seed(1)"
   ]
  },
  {
   "cell_type": "code",
   "execution_count": 17,
   "metadata": {},
   "outputs": [],
   "source": [
    "def beam_n(X, n, EI_req = 1*10**6):\n",
    "    \"\"\"\n",
    "    beam model\n",
    "    function for n extra non basic nodes\n",
    "    X[0:3*n] are node locations (x, y, z for each node)\n",
    "    X[3*n:] are member diameters (8+n*8+n*(n-1)/2)\n",
    "    EI_req is required EI\n",
    "    \"\"\"\n",
    "    beam = test_struct()\n",
    "    node_locs = np.array(X[0:3*n]).reshape(n, 3)\n",
    "    beam.make_nodes(node_locs)\n",
    "    beam.make_mem_ps(X[3*n:])\n",
    "    beam.make_struct()\n",
    "    beam.record_struct_info()\n",
    "    EI = beam.get_EI(100)\n",
    "    print(EI)\n",
    "    \n",
    "    if np.isnan(EI) or beam.min_l<0.01:\n",
    "        return(10**9)\n",
    "    else:\n",
    "        return(beam.mass+10**7*max(1/EI-1/EI_req, 0))"
   ]
  },
  {
   "cell_type": "code",
   "execution_count": 18,
   "metadata": {},
   "outputs": [],
   "source": [
    "def truss_n(X, n, EI_req = 1*10**6):\n",
    "    \"\"\"\n",
    "    truss model (release moments at nodes)\n",
    "    function for n extra non basic nodes\n",
    "    X[0:3*n] are node locations (x, y, z for each node)\n",
    "    X[3*n:] are member diameters (8+n*8+n*(n-1)/2)\n",
    "    EI_req is required EI\n",
    "    \"\"\"\n",
    "    truss = test_struct()\n",
    "    node_locs = np.array(X[0:3*n]).reshape(n, 3)\n",
    "    truss.make_nodes(node_locs)\n",
    "    truss.make_mem_ps(X[3*n:])\n",
    "    truss.make_struct()\n",
    "    truss.release_moments()\n",
    "    truss.record_struct_info()\n",
    "    EI = truss.get_EI(100)\n",
    "    print(EI)\n",
    "    \n",
    "    if np.isnan(EI) or truss.min_l<0.01:\n",
    "        return(10**9)\n",
    "    else:\n",
    "        return(truss.mass+10**7*max(1/EI-1/EI_req, 0))"
   ]
  },
  {
   "cell_type": "code",
   "execution_count": 24,
   "metadata": {},
   "outputs": [],
   "source": [
    "def unit_n(X, n, EI_req = 1*10**6):\n",
    "    \"\"\"\n",
    "    unit cell beam model\n",
    "    function for n extra non basic nodes\n",
    "    X[0:3*n] are node locations (x, y, z for each node)\n",
    "    X[3*n:] are member diameters (8+n*8+n*(n-1)/2)\n",
    "    EI_req is required EI\n",
    "    \"\"\"\n",
    "    \n",
    "    beam = test_struct(num_units=1)\n",
    "    node_locs = np.array(X[0:3*n]).reshape(n, 3)\n",
    "    beam.make_nodes(node_locs)\n",
    "    beam.make_mem_ps(X[3*n:])\n",
    "    beam.make_struct()\n",
    "    beam.record_struct_info()\n",
    "    EI = beam.get_EI(100)\n",
    "    print(EI)\n",
    "\n",
    "    if np.isnan(EI) or beam.min_l<0.01:\n",
    "        return(10**9)\n",
    "    else:\n",
    "        return(beam.mass+10**7*max(1/EI-1/EI_req, 0))"
   ]
  },
  {
   "cell_type": "code",
   "execution_count": 20,
   "metadata": {},
   "outputs": [],
   "source": [
    "def equiv_cant_n(X, n, EI_req = 1*10**6):\n",
    "    \"\"\"\n",
    "    EI calculated using equivalent cantilever model (circular crosssection, match mass)\n",
    "    function for n extra non basic nodes\n",
    "    X[0:3*n] are node locations (x, y, z for each node)\n",
    "    X[3*n:] are member diameters (8+n*8+n*(n-1)/2)\n",
    "    EI_req is required EI\n",
    "    \"\"\"\n",
    "    beam = test_struct(num_units=1)\n",
    "    node_locs = np.array(X[0:3*n]).reshape(n, 3)\n",
    "    beam.make_nodes(node_locs)\n",
    "    beam.make_mem_ps(X[3*n:])\n",
    "    beam.make_struct()\n",
    "    beam.record_struct_info()\n",
    "    equiv_EI = beam.get_equiv_EI()\n",
    "    print(equiv_EI)\n",
    "    \n",
    "    if np.isnan(equiv_EI) or beam.min_l<0.01:\n",
    "        return(10**9)\n",
    "    else:\n",
    "        return(beam.mass+10**7*max(1/equiv_EI-1/EI_req, 0))"
   ]
  },
  {
   "cell_type": "code",
   "execution_count": 21,
   "metadata": {},
   "outputs": [],
   "source": [
    "#test nodes\n",
    "node_locs = [0.5, 0.2, 0.3, 0.6, 0.8, 1, 0, 0.2, 0.5]\n",
    "member_ds = [0.004]*35\n",
    "X = [node_locs+member_ds]"
   ]
  },
  {
   "cell_type": "code",
   "execution_count": 25,
   "metadata": {},
   "outputs": [],
   "source": [
    "n = 3\n",
    "hf_f = beam_n\n",
    "lf_f = unit_n\n",
    "def f_hf(X):\n",
    "    return(hf_f(X[0], n, 1*10**6))\n",
    "def f_lf(X):\n",
    "    return(lf_f(X[0], n, 1*10**6))"
   ]
  },
  {
   "cell_type": "code",
   "execution_count": null,
   "metadata": {},
   "outputs": [],
   "source": [
    "node_domain = [{'name':'node_coord', 'type':'continuous', 'domain':(0, 1)}]\n",
    "d_domain = [{'name':'member_d', 'type':'continuous', 'domain':(0, 0.1)}]\n",
    "\n",
    "domain = node_domain*n*3 + d_domain*int((n+1)*8+n*(n-1)/2)\n",
    "#optimising for 1 non basic node, require EI 1*10**6\n",
    "myOpt = BayesianOptimization(f_hf,\n",
    "                             domain=domain,\n",
    "                             acquisition_type=\"EI\",\n",
    "                             model_type='GP',\n",
    "                             exact_feval=True)\n",
    "myOpt.run_optimization(max_iter = 100, max_time = 600, eps=1e-6)"
   ]
  },
  {
   "cell_type": "code",
   "execution_count": null,
   "metadata": {},
   "outputs": [],
   "source": [
    "myOpt.plot_convergence()"
   ]
  },
  {
   "cell_type": "code",
   "execution_count": null,
   "metadata": {},
   "outputs": [],
   "source": [
    "print(myOpt.x_opt)"
   ]
  },
  {
   "cell_type": "code",
   "execution_count": null,
   "metadata": {},
   "outputs": [],
   "source": [
    "opt_beam, EI, mass, min_l= do_beam(myOpt.x_opt, n)\n",
    "print(EI)\n",
    "print(mass)\n",
    "print(min_l)"
   ]
  },
  {
   "cell_type": "code",
   "execution_count": null,
   "metadata": {},
   "outputs": [],
   "source": [
    "Visualization.RenderModel(opt_beam.struct, deformed_shape=True, deformed_scale=1, text_height=0.05)"
   ]
  }
 ],
 "metadata": {
  "kernelspec": {
   "display_name": "Python 3",
   "language": "python",
   "name": "python3"
  },
  "language_info": {
   "codemirror_mode": {
    "name": "ipython",
    "version": 3
   },
   "file_extension": ".py",
   "mimetype": "text/x-python",
   "name": "python",
   "nbconvert_exporter": "python",
   "pygments_lexer": "ipython3",
   "version": "3.8.3"
  }
 },
 "nbformat": 4,
 "nbformat_minor": 4
}
